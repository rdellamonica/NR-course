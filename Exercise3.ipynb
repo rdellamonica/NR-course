{
 "cells": [
  {
   "cell_type": "code",
   "execution_count": 2,
   "metadata": {},
   "outputs": [],
   "source": [
    "import sympy as sp\n",
    "import numpy as np\n",
    "import matplotlib.pyplot as plt\n",
    "\n",
    "from sympy.utilities.autowrap import autowrap\n",
    "\n",
    "import vtk\n",
    "from vtk.util import numpy_support\n",
    "\n",
    "import pyevtk\n",
    "\n",
    "import matplotlib.pyplot as plt\n",
    "import matplotlib as mpl\n",
    "import matplotlib.colors as mpc\n",
    "from matplotlib.collections import LineCollection\n",
    "from matplotlib.colors import ListedColormap, BoundaryNorm\n",
    "\n",
    "from numba import njit\n",
    "\n",
    "mpl.rcParams['figure.dpi'] = 120\n",
    "mpl.rcParams['text.usetex'] = False\n",
    "mpl.rcParams['axes.grid'] = True\n",
    "mpl.rcParams['grid.color'] = \"#cdcdcd\"\n",
    "mpl.rcParams['grid.linestyle'] = \":\"\n",
    "mpl.rcParams['legend.frameon'] = False\n",
    "mpl.rcParams['axes.prop_cycle'] = mpl.cycler(color=[\"#767afe\", \"#2b926a\", \"#b53546\", \"#e78b50\", \"#b462be\"]) \n",
    "mpl.rcParams['font.family'] = 'cmr10'\n",
    "mpl.rcParams['mathtext.fontset'] = 'cm'\n",
    "mpl.rcParams['axes.formatter.use_mathtext'] = True\n",
    "\n",
    "from astropy import constants, units\n",
    "\n",
    "from scipy.integrate import quad, solve_ivp\n",
    "from scipy.optimize import fsolve\n",
    "\n",
    "from time import time\n",
    "\n",
    "%matplotlib widget"
   ]
  },
  {
   "cell_type": "markdown",
   "metadata": {},
   "source": [
    "# Exercise 3 - Numerical integration of the advection equation on a 3D grid"
   ]
  },
  {
   "cell_type": "markdown",
   "metadata": {},
   "source": [
    "Grid parameters definition\n",
    "\n"
   ]
  },
  {
   "cell_type": "code",
   "execution_count": 3,
   "metadata": {},
   "outputs": [],
   "source": [
    "N = 50\n",
    "L = 1\n",
    "\n",
    "Delta_l = L/N"
   ]
  },
  {
   "cell_type": "markdown",
   "metadata": {},
   "source": [
    "Definition of the partial derivatives using the provided stencil"
   ]
  },
  {
   "cell_type": "code",
   "execution_count": 4,
   "metadata": {},
   "outputs": [],
   "source": [
    "\n",
    "c_int = np.array([1/12, -2/3, 0, 2/3, -1/12])\n",
    "c_bo_f = np.array([-25/12, 4, -3, 4/3, -1/4])\n",
    "c_bo_b = -np.flip(c_bo_f)\n",
    "c_bint_f = np.array([-1/4, -5/6, 3/2, -1/2, 1/12])\n",
    "c_bint_b = -np.flip(c_bint_f)\n",
    "\n",
    "\n",
    "@njit\n",
    "def partial_x(phi, i, j, k):\n",
    "    if i == 0:\n",
    "        c = c_bo_f\n",
    "        dphi = phi[i:i+5, j, k]\n",
    "    elif i == N-1:\n",
    "        c = c_bo_b\n",
    "        dphi = phi[i-4:, j, k]\n",
    "    elif i == 1:\n",
    "        c = c_bint_f\n",
    "        dphi = phi[i-1:i+4, j, k]\n",
    "    elif i == N-2:\n",
    "        c = c_bint_b\n",
    "        dphi = phi[i-3:, j, k]     \n",
    "    else:\n",
    "        c = c_int\n",
    "        dphi = phi[i-2:i+3, j, k]\n",
    "    \n",
    "    return np.dot(c, dphi)/Delta_l\n",
    "\n",
    "@njit\n",
    "def partial_y(phi, i, j, k):\n",
    "    if j == 0:\n",
    "        c = c_bo_f\n",
    "        dphi = phi[i, j:j+5, k]\n",
    "    elif j == N-1:\n",
    "        c = c_bo_b\n",
    "        dphi = phi[i, j-4:, k]\n",
    "    elif j == 1:\n",
    "        c = c_bint_f\n",
    "        dphi = phi[i,j-1:j+4, k]\n",
    "    elif j == N-2:\n",
    "        c = c_bint_b\n",
    "        dphi = phi[i,j-3:, k]     \n",
    "    else:\n",
    "        c = c_int\n",
    "        dphi = phi[i,j-2:j+3, k]\n",
    "    \n",
    "    return np.dot(c, dphi)/Delta_l\n",
    "\n",
    "@njit\n",
    "def partial_z(phi, i, j, k):\n",
    "    if k == 0:\n",
    "        c = c_bo_f\n",
    "        dphi = phi[i,j,k:k+5]\n",
    "    elif k == N-1:\n",
    "        c = c_bo_b\n",
    "        dphi = phi[i,j,k-4:]\n",
    "    elif k == 1:\n",
    "        c = c_bint_f\n",
    "        dphi = phi[i,j,k-1:k+4]\n",
    "    elif k == N-2:\n",
    "        c = c_bint_b\n",
    "        dphi = phi[i,j,k-3:]\n",
    "    else:\n",
    "        c = c_int\n",
    "        dphi = phi[i,j,k-2:k+3]\n",
    "    \n",
    "    return np.dot(c, dphi)/Delta_l"
   ]
  },
  {
   "cell_type": "code",
   "execution_count": 5,
   "metadata": {},
   "outputs": [],
   "source": [
    "@njit\n",
    "def Partial_x(Phi):\n",
    "    partial_x_phi = np.zeros_like(Phi)\n",
    "    for i in range(N):\n",
    "        for j in range(N):\n",
    "            for k in range(N):\n",
    "                partial_x_phi[i, j, k] = partial_x(Phi, i, j, k)\n",
    "    \n",
    "    return partial_x_phi\n",
    "\n",
    "@njit\n",
    "def Partial_y(Phi):\n",
    "    partial_y_phi = np.zeros_like(Phi)\n",
    "    for i in range(N):\n",
    "        for j in range(N):\n",
    "            for k in range(N):\n",
    "                partial_y_phi[i, j, k] = partial_y(Phi, i, j, k)\n",
    "    \n",
    "    return partial_y_phi\n",
    "\n",
    "@njit\n",
    "def Partial_z(Phi):\n",
    "    partial_z_phi = np.zeros_like(Phi)\n",
    "    for i in range(N):\n",
    "        for j in range(N):\n",
    "            for k in range(N):\n",
    "                partial_z_phi[i, j, k] = partial_z(Phi, i, j, k)\n",
    "    \n",
    "    return partial_z_phi"
   ]
  },
  {
   "cell_type": "markdown",
   "metadata": {},
   "source": [
    "Definition of the grid and of the initial data"
   ]
  },
  {
   "cell_type": "code",
   "execution_count": 6,
   "metadata": {},
   "outputs": [],
   "source": [
    "x = np.linspace(0, L, N)\n",
    "y = np.linspace(0, L, N)\n",
    "z = np.linspace(0, L, N)\n",
    "\n",
    "xx, yy, zz = np.meshgrid(x, y, z, indexing='xy')\n",
    "\n",
    "x_c = L/2\n",
    "y_c = L/2\n",
    "z_c = L/2\n",
    "\n",
    "sigma = 0.1\n",
    "\n",
    "Phi_0 = np.exp(-((xx-x_c)**2+(yy-y_c)**2+(zz-z_c)**2)/sigma**2)"
   ]
  },
  {
   "cell_type": "markdown",
   "metadata": {},
   "source": [
    "State updater"
   ]
  },
  {
   "cell_type": "code",
   "execution_count": 7,
   "metadata": {},
   "outputs": [],
   "source": [
    "v = [0.5, 0.25, 0.1]\n",
    "\n",
    "def update_state(t, state):\n",
    "    \n",
    "    Phi = np.reshape(state, (N, N, N))\n",
    "    \n",
    "    dxPhi = Partial_x(Phi)\n",
    "    dyPhi = Partial_y(Phi)\n",
    "    dzPhi = Partial_z(Phi)\n",
    "    \n",
    "    dtPhi = -(v[0]*dxPhi+v[1]*dyPhi+v[2]*dzPhi)\n",
    "    \n",
    "    # Boundary conditions\n",
    "    \n",
    "    dtPhi[0, :, :] = -v[1]*dyPhi[0, :, :]-v[2]*dzPhi[0, :, :]\n",
    "    dtPhi[:, 0, :] = -v[0]*dxPhi[:, 0, :]-v[2]*dzPhi[:, 0, :]\n",
    "    dtPhi[:, :, 0] = -v[0]*dxPhi[:, :, 0]-v[1]*dyPhi[:, :, 0] \n",
    "    \n",
    "    return dtPhi.flatten()"
   ]
  },
  {
   "cell_type": "markdown",
   "metadata": {},
   "source": [
    "Actual integration using Runge-Kutta and setting a maximum step"
   ]
  },
  {
   "cell_type": "code",
   "execution_count": 8,
   "metadata": {},
   "outputs": [
    {
     "name": "stderr",
     "output_type": "stream",
     "text": [
      "/var/folders/nc/r976xvfd307_rr033_4j2cz00000gn/T/ipykernel_68156/949069483.py:7: NumbaPerformanceWarning: \u001b[1m\u001b[1m\u001b[1mnp.dot() is faster on contiguous arrays, called on (Array(float64, 1, 'C', True, aligned=True), Array(float64, 1, 'A', False, aligned=True))\u001b[0m\u001b[0m\u001b[0m\n",
      "  partial_x_phi[i, j, k] = partial_x(Phi, i, j, k)\n"
     ]
    }
   ],
   "source": [
    "Phi_sol = solve_ivp(update_state, (0, 3), Phi_0.flatten(), max_step = 0.5*Delta_l/np.max(v))"
   ]
  },
  {
   "cell_type": "markdown",
   "metadata": {},
   "source": [
    "Exporting to VTK"
   ]
  },
  {
   "cell_type": "code",
   "execution_count": 10,
   "metadata": {},
   "outputs": [],
   "source": [
    "from pyevtk.hl import pointsToVTK, gridToVTK"
   ]
  },
  {
   "cell_type": "code",
   "execution_count": 11,
   "metadata": {},
   "outputs": [],
   "source": [
    "x_grid = np.linspace(0, L, N+1)\n",
    "y_grid = np.linspace(0, L, N+1)\n",
    "z_grid = np.linspace(0, L, N+1)\n"
   ]
  },
  {
   "cell_type": "code",
   "execution_count": 12,
   "metadata": {},
   "outputs": [],
   "source": [
    "for i, t in enumerate(Phi_sol.t/10):\n",
    "    gridToVTK(f\"./vtk/frames/advection_{t:4f}\", x_grid, y_grid, z_grid, cellData = {'advection': Phi_sol.y[:, i]})"
   ]
  },
  {
   "cell_type": "markdown",
   "metadata": {},
   "source": [
    "# Results"
   ]
  },
  {
   "cell_type": "markdown",
   "metadata": {},
   "source": [
    "Here are the resulting animations created with ParaView"
   ]
  },
  {
   "cell_type": "markdown",
   "metadata": {},
   "source": [
    "### $y-z$ plane"
   ]
  },
  {
   "cell_type": "markdown",
   "metadata": {},
   "source": [
    "<video width=\" \" height=\" \" \n",
    "       src=\"animation_frames/animation_yz.mp4\"  \n",
    "       controls>\n",
    "</video>"
   ]
  },
  {
   "cell_type": "markdown",
   "metadata": {},
   "source": [
    "### $x-y$ plane"
   ]
  },
  {
   "cell_type": "markdown",
   "metadata": {},
   "source": [
    "<video width=\" \" height=\" \" \n",
    "       src=\"animation_frames/animation_xy.mp4\"  \n",
    "       controls>\n",
    "</video>"
   ]
  },
  {
   "cell_type": "markdown",
   "metadata": {},
   "source": [
    "### $x-z$ plane"
   ]
  },
  {
   "cell_type": "markdown",
   "metadata": {},
   "source": [
    "<video width=\" \" height=\" \" \n",
    "       src=\"animation_frames/animation_xz.mp4\"  \n",
    "       controls>\n",
    "</video>"
   ]
  }
 ],
 "metadata": {
  "kernelspec": {
   "display_name": "Python 3",
   "language": "python",
   "name": "python3"
  },
  "language_info": {
   "codemirror_mode": {
    "name": "ipython",
    "version": 3
   },
   "file_extension": ".py",
   "mimetype": "text/x-python",
   "name": "python",
   "nbconvert_exporter": "python",
   "pygments_lexer": "ipython3",
   "version": "3.11.6"
  }
 },
 "nbformat": 4,
 "nbformat_minor": 2
}
